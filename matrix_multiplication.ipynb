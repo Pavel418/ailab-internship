{
 "cells": [
  {
   "cell_type": "code",
   "execution_count": 92,
   "id": "0ffb00e8",
   "metadata": {},
   "outputs": [],
   "source": [
    "from typing import List, Optional\n",
    "from __future__ import annotations"
   ]
  },
  {
   "cell_type": "code",
   "execution_count": 93,
   "id": "50810af9",
   "metadata": {},
   "outputs": [],
   "source": [
    "class Matrix:\n",
    "    def __init__(\n",
    "            self, \n",
    "            row_matrix: Optional[List[List[float]]] = None,\n",
    "            column_matrix: Optional[List[List[float]]] = None\n",
    "        ):\n",
    "        assert(row_matrix or column_matrix)\n",
    "        if column_matrix:\n",
    "            assert(len(column_matrix) > 0)\n",
    "            assert(len(column_matrix[0]) > 0)\n",
    "            row_matrix = self.column_to_row_matrix(column_matrix=column_matrix)\n",
    "        assert(len(row_matrix) > 0)\n",
    "        row_length = None\n",
    "        for row in row_matrix:\n",
    "            current_length = len(row)\n",
    "            assert(current_length > 0)\n",
    "            if row_length != None:\n",
    "                assert(row_length == current_length)\n",
    "            row_length = current_length\n",
    "            \n",
    "        self.matrix = row_matrix\n",
    "\n",
    "    def column_to_row_matrix(self, column_matrix: List[List[float]]) -> List[List[float]]:\n",
    "        rows = []\n",
    "        for i in range(len(column_matrix[0])):\n",
    "            row = []\n",
    "            for j in range(len(column_matrix)):\n",
    "                row.append(column_matrix[j][i])\n",
    "            rows.append(row)\n",
    "        return rows\n",
    "\n",
    "    def get_column(self, index) -> List[float]:\n",
    "        assert(index < len(self.matrix[0]))\n",
    "        column = []\n",
    "        for row in self.matrix:\n",
    "            column.append(row[index])\n",
    "        return column\n",
    "    \n",
    "    def multiply_by_scalar(self, scalar) -> Matrix:\n",
    "        rows = []\n",
    "        for row in self.matrix:\n",
    "            new_row = []\n",
    "            for value in row:\n",
    "                result = value * scalar\n",
    "                new_row.append(result)\n",
    "            rows.append(new_row)\n",
    "        return rows\n",
    "\n",
    "    def multiply_by_row(self, other: Matrix) -> Matrix:\n",
    "        \"\"\" Equivalent to self * other \"\"\"\n",
    "        assert(len(self.matrix) == len(other.matrix[0]))\n",
    "\n",
    "        rows = []\n",
    "        for i in range(len(self.matrix)):\n",
    "            row = self.matrix[i]\n",
    "            new_row = []\n",
    "            for j in range(len(other.matrix)):\n",
    "                column = other.get_column(j)\n",
    "                sum = 0\n",
    "                for index in range(len(row)):\n",
    "                    sum += row[index] * column[index]\n",
    "                new_row.append(sum)\n",
    "            rows.append(new_row)\n",
    "        return Matrix(row_matrix=rows)\n",
    "    \n",
    "    def multiply_by_column(self, other: Matrix) -> Matrix:\n",
    "        \"\"\" Equivalent to self * other \"\"\"\n",
    "        assert(len(self.matrix) == len(other.matrix[0]))\n",
    "\n",
    "        columns = []\n",
    "        for j in range(len(other.matrix[0])):\n",
    "            column_b = other.get_column(j)\n",
    "\n",
    "            resulting_column = []\n",
    "            for _ in range(len(column_b)):\n",
    "                resulting_column.append(0)\n",
    "\n",
    "            for i in range(len(self.matrix[0])):\n",
    "                column_a = self.get_column(i)\n",
    "                for index in range(len(resulting_column)):\n",
    "                    resulting_column[index] += column_a[index] * column_b[i]\n",
    "            columns.append(resulting_column)\n",
    "        return Matrix(column_matrix=columns)\n",
    "\n",
    "\n",
    "    def print(self) -> None:\n",
    "        for row in self.matrix:\n",
    "            for value in row:\n",
    "                print(value, end=\" \")\n",
    "            print(\"\")"
   ]
  },
  {
   "cell_type": "code",
   "execution_count": 94,
   "id": "0f99eb17",
   "metadata": {},
   "outputs": [],
   "source": [
    "a = Matrix(row_matrix=[\n",
    "    [1, 2],\n",
    "    [3, 4]\n",
    "])\n",
    "\n",
    "b = Matrix(row_matrix=[\n",
    "    [5, 6],\n",
    "    [7, 8]\n",
    "])"
   ]
  },
  {
   "cell_type": "code",
   "execution_count": 95,
   "id": "17aacf66",
   "metadata": {},
   "outputs": [],
   "source": [
    "c = a.multiply_by_row(b)"
   ]
  },
  {
   "cell_type": "code",
   "execution_count": 96,
   "id": "51803623",
   "metadata": {},
   "outputs": [
    {
     "name": "stdout",
     "output_type": "stream",
     "text": [
      "19 22 \n",
      "43 50 \n"
     ]
    }
   ],
   "source": [
    "c.print()"
   ]
  },
  {
   "cell_type": "code",
   "execution_count": 97,
   "id": "04c9067e",
   "metadata": {},
   "outputs": [
    {
     "name": "stdout",
     "output_type": "stream",
     "text": [
      "19 22 \n",
      "43 50 \n"
     ]
    }
   ],
   "source": [
    "d = a.multiply_by_column(b)\n",
    "d.print()"
   ]
  }
 ],
 "metadata": {
  "kernelspec": {
   "display_name": "Python 3",
   "language": "python",
   "name": "python3"
  },
  "language_info": {
   "codemirror_mode": {
    "name": "ipython",
    "version": 3
   },
   "file_extension": ".py",
   "mimetype": "text/x-python",
   "name": "python",
   "nbconvert_exporter": "python",
   "pygments_lexer": "ipython3",
   "version": "3.10.7"
  }
 },
 "nbformat": 4,
 "nbformat_minor": 5
}
